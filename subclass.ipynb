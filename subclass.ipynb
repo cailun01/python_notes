{
 "cells": [
  {
   "cell_type": "code",
   "execution_count": 19,
   "metadata": {},
   "outputs": [],
   "source": [
    "# 复习当子类继承父类时，子类构造函数的写法\n",
    "class Person(object):\n",
    "    def __init__(self, name, age):\n",
    "        self.name = name\n",
    "        self.age = age\n",
    "    \n",
    "\n",
    "class Students(Person):\n",
    "    def __init__(self, name, age, grades):\n",
    "        super(Students,self).__init__(name,age)\n",
    "        self.grades = grades\n",
    "        \n",
    "    def __repr__(self):\n",
    "        return \"{} is {} years old. Got {} grades in the test.\".format(self.name, self.age, self.grades)"
   ]
  },
  {
   "cell_type": "code",
   "execution_count": 20,
   "metadata": {},
   "outputs": [],
   "source": [
    "Bob = Students(\"Bob\", 18, 98)"
   ]
  },
  {
   "cell_type": "code",
   "execution_count": 22,
   "metadata": {},
   "outputs": [
    {
     "name": "stdout",
     "output_type": "stream",
     "text": [
      "Bob is 18 years old. Got 98 grades in the test.\n"
     ]
    }
   ],
   "source": [
    "print(Bob)"
   ]
  },
  {
   "cell_type": "code",
   "execution_count": null,
   "metadata": {},
   "outputs": [],
   "source": []
  }
 ],
 "metadata": {
  "kernelspec": {
   "display_name": "Python 3",
   "language": "python",
   "name": "python3"
  },
  "language_info": {
   "codemirror_mode": {
    "name": "ipython",
    "version": 3
   },
   "file_extension": ".py",
   "mimetype": "text/x-python",
   "name": "python",
   "nbconvert_exporter": "python",
   "pygments_lexer": "ipython3",
   "version": "3.7.4"
  }
 },
 "nbformat": 4,
 "nbformat_minor": 4
}
