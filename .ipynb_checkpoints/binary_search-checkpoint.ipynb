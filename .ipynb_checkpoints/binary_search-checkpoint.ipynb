{
 "cells": [
  {
   "cell_type": "code",
   "execution_count": 21,
   "metadata": {},
   "outputs": [],
   "source": [
    "def binary_search(nums, target):\n",
    "    length = len(nums)\n",
    "    if length == 0:\n",
    "        return -1\n",
    "    left, right = 0, length - 1\n",
    "    while left <= right:\n",
    "        mid = int((left + right) // 2)\n",
    "        if nums[mid] == target:\n",
    "            return mid\n",
    "        elif nums[mid] < target:\n",
    "            left = mid\n",
    "        elif nums[mid] > target:\n",
    "            right = mid\n",
    "    return -1"
   ]
  },
  {
   "cell_type": "code",
   "execution_count": 22,
   "metadata": {},
   "outputs": [],
   "source": [
    "def lower_bound(nums, target):\n",
    "    length = len(nums)\n",
    "    left, right = 0, length\n",
    "    while left < right:\n",
    "        mid = int((left + right) // 2)\n",
    "        if nums[mid] == target:\n",
    "            right = mid\n",
    "        elif nums[mid] < target:\n",
    "            left = mid + 1\n",
    "        elif nums[mid] > target:\n",
    "            right = mid\n",
    "    return left"
   ]
  },
  {
   "cell_type": "code",
   "execution_count": 23,
   "metadata": {},
   "outputs": [],
   "source": [
    "def upper_bound(nums, target):\n",
    "    length = len(nums)\n",
    "    left, right = 0, length\n",
    "    while left < right:\n",
    "        mid = int((left + right) // 2)\n",
    "        if nums[mid] == target:\n",
    "            left = mid + 1\n",
    "        elif nums[mid] < target:\n",
    "            left = mid + 1\n",
    "        elif nums[mid] > target:\n",
    "            right = mid\n",
    "    return left"
   ]
  },
  {
   "cell_type": "code",
   "execution_count": 28,
   "metadata": {},
   "outputs": [
    {
     "name": "stdout",
     "output_type": "stream",
     "text": [
      "ddddd\n",
      "target_idx:  2\n",
      "lower_bound_idx:  3\n",
      "upper_bound_idx:  7\n",
      "target = 7,lower_bound_idx:  9\n",
      "target = 7,upper_bound_idx:  9\n",
      "target = 0,lower_bound_idx:  0\n",
      "target = 0,upper_bound_idx:  0\n"
     ]
    }
   ],
   "source": [
    "nums = [1,2,3,4,4,4,4,5,6] # len(nums) == 9\n",
    "print(\"ddddd\")\n",
    "target = 3\n",
    "target_idx = binary_search(nums, target)\n",
    "print(\"target_idx: \",target_idx)\n",
    "target = 4\n",
    "lower_bound_idx = lower_bound(nums, target)\n",
    "print(\"lower_bound_idx: \", lower_bound_idx)\n",
    "upper_bound_idx = upper_bound(nums, target)\n",
    "print(\"upper_bound_idx: \", upper_bound_idx)\n",
    "\n",
    "target = 7 # bigger than all elements\n",
    "upper_bound_idx = upper_bound(nums, target)\n",
    "lower_bound_idx = lower_bound(nums, target)\n",
    "print(\"target = 7,lower_bound_idx: \", lower_bound_idx)\n",
    "print(\"target = 7,upper_bound_idx: \", upper_bound_idx)\n",
    "\n",
    "target = 0 # smaller than all elements\n",
    "upper_bound_idx = upper_bound(nums, target)\n",
    "lower_bound_idx = lower_bound(nums, target)\n",
    "print(\"target = 0,lower_bound_idx: \", lower_bound_idx)\n",
    "print(\"target = 0,upper_bound_idx: \", upper_bound_idx)"
   ]
  },
  {
   "cell_type": "code",
   "execution_count": null,
   "metadata": {},
   "outputs": [],
   "source": []
  }
 ],
 "metadata": {
  "kernelspec": {
   "display_name": "Python 3",
   "language": "python",
   "name": "python3"
  },
  "language_info": {
   "codemirror_mode": {
    "name": "ipython",
    "version": 3
   },
   "file_extension": ".py",
   "mimetype": "text/x-python",
   "name": "python",
   "nbconvert_exporter": "python",
   "pygments_lexer": "ipython3",
   "version": "3.7.4"
  }
 },
 "nbformat": 4,
 "nbformat_minor": 4
}
