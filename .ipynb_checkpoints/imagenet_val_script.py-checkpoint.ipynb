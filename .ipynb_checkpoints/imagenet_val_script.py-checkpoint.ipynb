{
 "cells": [
  {
   "cell_type": "code",
   "execution_count": null,
   "metadata": {},
   "outputs": [],
   "source": [
    "\"\"\"\n",
    "imagenet验证集共有50000张图，我从中挑选了2000张，放入C:\\\\Users\\\\cailun\\\\Desktop\\\\validation\n",
    "由于序号为1~2000的图片中有黑白图片，通过identify_black_and_white_photos删去了，补充了一些彩色图片\n",
    "\n",
    "因为pytorch的ImageFolder创建数据集时，假设所有的图片按文件夹保存，每个文件夹下存储同一个类别的图片，文件夹名为类名。\n",
    "所以需要一个方便的脚本，执行如下命令：\n",
    "    mkdir -p label/\n",
    "    mv image.jpeg label/\n",
    "\"\"\"\n",
    "\n",
    "def temp():\n",
    "    # D:\\downloads\\dataset\\ImageNet\\ILSVRC2012_img_val目录中的50000张图的名称和它们的label\n",
    "    # key: image_name, value: label\n",
    "    image_name_to_label = {}\n",
    "    label_txt_path = \"D:\\\\downloads\\\\dataset\\\\ImageNet\\\\caffe_ilsvrc12\\\\val.txt\"\n",
    "    with open(label_txt_path, \"r\") as f:\n",
    "        for line in f.readlines():\n",
    "            line = line.strip()\n",
    "            name, label = line.split()\n",
    "            image_name_to_label[name] = label\n",
    "    \n",
    "    script = \"C:\\\\Users\\\\cailun\\\\Desktop\\\\val_script.sh\"\n",
    "    # image_dir是我单独整理的2000张图\n",
    "    image_dir = \"C:\\\\Users\\\\cailun\\\\Desktop\\\\validation\"\n",
    "    with open(script, \"w\") as f:\n",
    "        for image in os.listdir(image_dir):\n",
    "            label = image_name_to_label[image]\n",
    "            f.writelines(\"mkdir -p {}/\\n\".format(label))\n",
    "\n",
    "    with open(script, \"a\") as f:\n",
    "        for image in os.listdir(image_dir):\n",
    "            label = image_name_to_label[image]\n",
    "            # 把图片名称的后缀都编成.jpeg，因为原有的.JPEG后缀不能识别\n",
    "            image_name = image.split('.')[0] + \".jpeg\"\n",
    "            f.writelines(\"mv {} {}/\\n\".format(image_name, label))\n",
    "            \n",
    "temp()"
   ]
  }
 ],
 "metadata": {
  "kernelspec": {
   "display_name": "Python 3",
   "language": "python",
   "name": "python3"
  },
  "language_info": {
   "codemirror_mode": {
    "name": "ipython",
    "version": 3
   },
   "file_extension": ".py",
   "mimetype": "text/x-python",
   "name": "python",
   "nbconvert_exporter": "python",
   "pygments_lexer": "ipython3",
   "version": "3.7.4"
  }
 },
 "nbformat": 4,
 "nbformat_minor": 4
}
