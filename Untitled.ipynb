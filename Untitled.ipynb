{
 "cells": [
  {
   "cell_type": "code",
   "execution_count": 17,
   "metadata": {},
   "outputs": [
    {
     "name": "stdout",
     "output_type": "stream",
     "text": [
      "1789329970880\n",
      "<memory at 0x000001A09C392BF8>\n",
      "1789329971280\n",
      "<memory at 0x000001A09C60C268>\n",
      "1789329979952\n",
      "<memory at 0x000001A09C392D08>\n",
      "<memory at 0x000001A09C60C158>\n",
      "1789329997136\n",
      "<memory at 0x000001A09C60C048>\n"
     ]
    }
   ],
   "source": [
    "import numpy as np\n",
    "np_arr = np.ones((2,3,64,64)).astype(np.float32)\n",
    "shm_arr = np.ndarray(shape=(6, 3, 64, 64), dtype=np.float32)\n",
    "shape = list(np_arr.shape)\n",
    "shm_arr = shm_arr.reshape([-1] + shape[1:])\n",
    "# print(\"shm_arr.shape: \",shm_arr.shape)\n",
    "shm_arr[:shape[0]] = np_arr[:]\n",
    "# print(shm_arr[2:])\n",
    "\n",
    "buf_1 = memoryview(np_arr)\n",
    "buf_2 = memoryview(shm_arr)\n",
    "print(id(np_arr))\n",
    "print(buf_1)\n",
    "print(id(shm_arr))\n",
    "print(buf_2)\n",
    "\n",
    "new_arr = shm_arr[0:2]\n",
    "buf_3 = memoryview(new_arr)\n",
    "\n",
    "new_arr2 = np.empty((2,3,64,64), np.float32)\n",
    "new_arr2[:] = shm_arr[0:2]\n",
    "buf_4 = memoryview(new_arr2)\n",
    "print(id(new_arr2))\n",
    "print(buf_3)\n",
    "print(buf_4)\n",
    "\n",
    "print(id(new_arr3))\n",
    "new_arr3 = new_arr2\n",
    "buf_5 = memoryview(new_arr3)\n",
    "print(buf_5)"
   ]
  },
  {
   "cell_type": "code",
   "execution_count": null,
   "metadata": {},
   "outputs": [],
   "source": []
  }
 ],
 "metadata": {
  "kernelspec": {
   "display_name": "Python 3",
   "language": "python",
   "name": "python3"
  },
  "language_info": {
   "codemirror_mode": {
    "name": "ipython",
    "version": 3
   },
   "file_extension": ".py",
   "mimetype": "text/x-python",
   "name": "python",
   "nbconvert_exporter": "python",
   "pygments_lexer": "ipython3",
   "version": "3.7.4"
  }
 },
 "nbformat": 4,
 "nbformat_minor": 4
}
