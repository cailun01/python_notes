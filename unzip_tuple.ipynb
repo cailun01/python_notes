{
 "cells": [
  {
   "cell_type": "code",
   "execution_count": 2,
   "metadata": {},
   "outputs": [
    {
     "name": "stdout",
     "output_type": "stream",
     "text": [
      "(1, 'a') 4.0\n",
      "(2, 'b') 5.0\n",
      "(3, 'c') 6.0\n"
     ]
    }
   ],
   "source": [
    "# list_a里面的元素是tuple\n",
    "# 可以用以下2种方式解包\n",
    "list_a = [(1, 'a'),(2, 'b'),(3, 'c')]\n",
    "list_b = [4., 5., 6.]\n",
    "# 第1种\n",
    "for i, k in zip(list_a, list_b):\n",
    "    print(i, k)"
   ]
  },
  {
   "cell_type": "code",
   "execution_count": 5,
   "metadata": {},
   "outputs": [
    {
     "name": "stdout",
     "output_type": "stream",
     "text": [
      "1 a 4.0\n",
      "2 b 5.0\n",
      "3 c 6.0\n"
     ]
    }
   ],
   "source": [
    "# 第2种\n",
    "for (i,j), k in zip(list_a, list_b):\n",
    "    print(i,j, k)"
   ]
  },
  {
   "cell_type": "code",
   "execution_count": null,
   "metadata": {},
   "outputs": [],
   "source": []
  }
 ],
 "metadata": {
  "kernelspec": {
   "display_name": "Python 3",
   "language": "python",
   "name": "python3"
  },
  "language_info": {
   "codemirror_mode": {
    "name": "ipython",
    "version": 3
   },
   "file_extension": ".py",
   "mimetype": "text/x-python",
   "name": "python",
   "nbconvert_exporter": "python",
   "pygments_lexer": "ipython3",
   "version": "3.7.4"
  }
 },
 "nbformat": 4,
 "nbformat_minor": 4
}
