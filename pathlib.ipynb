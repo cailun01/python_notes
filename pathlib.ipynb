{
 "cells": [
  {
   "cell_type": "code",
   "execution_count": 2,
   "metadata": {},
   "outputs": [],
   "source": [
    "# 学习pathlib库"
   ]
  },
  {
   "cell_type": "code",
   "execution_count": 3,
   "metadata": {},
   "outputs": [],
   "source": [
    "import pathlib\n",
    "p = pathlib.Path('.')"
   ]
  },
  {
   "cell_type": "code",
   "execution_count": 8,
   "metadata": {},
   "outputs": [
    {
     "data": {
      "text/plain": [
       "[WindowsPath('.git'),\n",
       " WindowsPath('.ipynb_checkpoints'),\n",
       " WindowsPath('binary_search.ipynb'),\n",
       " WindowsPath('get_key_by_value.ipynb'),\n",
       " WindowsPath('identify_black_and_white_photos.ipynb'),\n",
       " WindowsPath('imagenet_val_script.py.ipynb'),\n",
       " WindowsPath('README.md'),\n",
       " WindowsPath('subclass.ipynb'),\n",
       " WindowsPath('Untitled.ipynb'),\n",
       " WindowsPath('unzip_tuple.ipynb')]"
      ]
     },
     "execution_count": 8,
     "metadata": {},
     "output_type": "execute_result"
    }
   ],
   "source": [
    "# 列出目录下所有文件\n",
    "[x for x in p.iterdir()]"
   ]
  },
  {
   "cell_type": "code",
   "execution_count": 7,
   "metadata": {},
   "outputs": [
    {
     "data": {
      "text/plain": [
       "[WindowsPath('.git'), WindowsPath('.ipynb_checkpoints')]"
      ]
     },
     "execution_count": 7,
     "metadata": {},
     "output_type": "execute_result"
    }
   ],
   "source": [
    "# 列出所有子目录\n",
    "[x for x in p.iterdir() if x.is_dir()]\n",
    "# 在linux环境下，上述的WindowsPath都会变为PosixPath"
   ]
  },
  {
   "cell_type": "code",
   "execution_count": 5,
   "metadata": {},
   "outputs": [
    {
     "data": {
      "text/plain": [
       "[WindowsPath('binary_search.ipynb'),\n",
       " WindowsPath('get_key_by_value.ipynb'),\n",
       " WindowsPath('identify_black_and_white_photos.ipynb'),\n",
       " WindowsPath('imagenet_val_script.py.ipynb'),\n",
       " WindowsPath('subclass.ipynb'),\n",
       " WindowsPath('Untitled.ipynb'),\n",
       " WindowsPath('unzip_tuple.ipynb'),\n",
       " WindowsPath('.ipynb_checkpoints/binary_search-checkpoint.ipynb'),\n",
       " WindowsPath('.ipynb_checkpoints/get_key_by_value-checkpoint.ipynb'),\n",
       " WindowsPath('.ipynb_checkpoints/identify_black_and_white_photos-checkpoint.ipynb'),\n",
       " WindowsPath('.ipynb_checkpoints/imagenet_val_script.py-checkpoint.ipynb'),\n",
       " WindowsPath('.ipynb_checkpoints/subclass-checkpoint.ipynb'),\n",
       " WindowsPath('.ipynb_checkpoints/Untitled-checkpoint.ipynb'),\n",
       " WindowsPath('.ipynb_checkpoints/unzip_tuple-checkpoint.ipynb')]"
      ]
     },
     "execution_count": 5,
     "metadata": {},
     "output_type": "execute_result"
    }
   ],
   "source": [
    "# 列出指定类型的文件\n",
    "list(p.glob('**/*.ipynb'))"
   ]
  },
  {
   "cell_type": "code",
   "execution_count": 6,
   "metadata": {},
   "outputs": [
    {
     "name": "stdout",
     "output_type": "stream",
     "text": [
      "learnPython\n"
     ]
    }
   ],
   "source": [
    "# 路径拼接\n",
    "# 可以使用斜杠`/`符号来拼接路径\n",
    "q = p / 'learnPython'\n",
    "print(q)"
   ]
  },
  {
   "cell_type": "code",
   "execution_count": null,
   "metadata": {},
   "outputs": [],
   "source": []
  }
 ],
 "metadata": {
  "kernelspec": {
   "display_name": "Python 3",
   "language": "python",
   "name": "python3"
  },
  "language_info": {
   "codemirror_mode": {
    "name": "ipython",
    "version": 3
   },
   "file_extension": ".py",
   "mimetype": "text/x-python",
   "name": "python",
   "nbconvert_exporter": "python",
   "pygments_lexer": "ipython3",
   "version": "3.7.4"
  }
 },
 "nbformat": 4,
 "nbformat_minor": 4
}
