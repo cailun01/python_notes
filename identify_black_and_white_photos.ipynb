{
 "cells": [
  {
   "cell_type": "code",
   "execution_count": 43,
   "metadata": {},
   "outputs": [],
   "source": [
    "from PIL import Image\n",
    "import numpy as np\n",
    "import os"
   ]
  },
  {
   "cell_type": "code",
   "execution_count": 24,
   "metadata": {
    "scrolled": true
   },
   "outputs": [
    {
     "name": "stdout",
     "output_type": "stream",
     "text": [
      "3\n"
     ]
    }
   ],
   "source": [
    "# 把image_dir中黑白照片(维度为2)识别出来\n",
    "def identify_black_and_white_photos():\n",
    "    num_of_black_and_white_photos = 0\n",
    "    image_dir = \"C:\\\\Users\\\\cailun\\\\Desktop\\\\validation\"\n",
    "    for image_name in os.listdir(image_dir):\n",
    "        image_path = os.path.join(image_dir, image_name)\n",
    "        try:\n",
    "            img = Image.open(image_path)\n",
    "        except:\n",
    "            pass\n",
    "        img_array = np.array(img)\n",
    "        num_dim = img_array.ndim\n",
    "        if num_dim != 3:\n",
    "            print(image_name)\n",
    "            num_of_black_and_white_photos += 1\n"
   ]
  }
 ],
 "metadata": {
  "kernelspec": {
   "display_name": "Python 3",
   "language": "python",
   "name": "python3"
  },
  "language_info": {
   "codemirror_mode": {
    "name": "ipython",
    "version": 3
   },
   "file_extension": ".py",
   "mimetype": "text/x-python",
   "name": "python",
   "nbconvert_exporter": "python",
   "pygments_lexer": "ipython3",
   "version": "3.7.4"
  }
 },
 "nbformat": 4,
 "nbformat_minor": 4
}
